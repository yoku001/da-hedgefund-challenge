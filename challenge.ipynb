{
 "cells": [
  {
   "cell_type": "code",
   "execution_count": 18,
   "metadata": {
    "collapsed": true
   },
   "outputs": [],
   "source": [
    "import pandas as pd\n",
    "import lightgbm as lgb\n",
    "import matplotlib.pyplot as plt\n",
    "import seaborn as sns\n",
    "from sklearn.model_selection import cross_val_score\n",
    "\n",
    "%matplotlib inline\n",
    "plt.rcParams['figure.figsize'] = 12, 10"
   ]
  },
  {
   "cell_type": "code",
   "execution_count": 2,
   "metadata": {
    "collapsed": true
   },
   "outputs": [],
   "source": [
    "df = pd.read_pickle('train/train.dat')\n",
    "# df_test = pd.read_pickle('test/test.dat')"
   ]
  },
  {
   "cell_type": "code",
   "execution_count": 23,
   "metadata": {},
   "outputs": [
    {
     "data": {
      "text/html": [
       "<div>\n",
       "<style>\n",
       "    .dataframe thead tr:only-child th {\n",
       "        text-align: right;\n",
       "    }\n",
       "\n",
       "    .dataframe thead th {\n",
       "        text-align: left;\n",
       "    }\n",
       "\n",
       "    .dataframe tbody tr th {\n",
       "        vertical-align: top;\n",
       "    }\n",
       "</style>\n",
       "<table border=\"1\" class=\"dataframe\">\n",
       "  <thead>\n",
       "    <tr style=\"text-align: right;\">\n",
       "      <th></th>\n",
       "      <th>data_id</th>\n",
       "      <th>period</th>\n",
       "      <th>c1</th>\n",
       "      <th>c2</th>\n",
       "      <th>c3</th>\n",
       "      <th>c4</th>\n",
       "      <th>c5</th>\n",
       "      <th>c6</th>\n",
       "      <th>c7</th>\n",
       "      <th>c8</th>\n",
       "      <th>...</th>\n",
       "      <th>c80</th>\n",
       "      <th>c81</th>\n",
       "      <th>c82</th>\n",
       "      <th>c83</th>\n",
       "      <th>c84</th>\n",
       "      <th>c85</th>\n",
       "      <th>c86</th>\n",
       "      <th>c87</th>\n",
       "      <th>c88</th>\n",
       "      <th>target</th>\n",
       "    </tr>\n",
       "  </thead>\n",
       "  <tbody>\n",
       "    <tr>\n",
       "      <th>0</th>\n",
       "      <td>2</td>\n",
       "      <td>train1</td>\n",
       "      <td>0.655570</td>\n",
       "      <td>-0.000022</td>\n",
       "      <td>-0.000539</td>\n",
       "      <td>-0.001075</td>\n",
       "      <td>0.0</td>\n",
       "      <td>0.0</td>\n",
       "      <td>0.213390</td>\n",
       "      <td>0.0</td>\n",
       "      <td>...</td>\n",
       "      <td>-0.023358</td>\n",
       "      <td>-0.017041</td>\n",
       "      <td>0.0</td>\n",
       "      <td>0.060697</td>\n",
       "      <td>0.0</td>\n",
       "      <td>0.0</td>\n",
       "      <td>0.000000</td>\n",
       "      <td>-0.000202</td>\n",
       "      <td>-0.140220</td>\n",
       "      <td>1</td>\n",
       "    </tr>\n",
       "    <tr>\n",
       "      <th>1</th>\n",
       "      <td>3</td>\n",
       "      <td>train1</td>\n",
       "      <td>1.646430</td>\n",
       "      <td>-0.000292</td>\n",
       "      <td>-0.008367</td>\n",
       "      <td>0.009497</td>\n",
       "      <td>0.0</td>\n",
       "      <td>0.0</td>\n",
       "      <td>0.000000</td>\n",
       "      <td>0.0</td>\n",
       "      <td>...</td>\n",
       "      <td>-0.059429</td>\n",
       "      <td>-0.009109</td>\n",
       "      <td>0.0</td>\n",
       "      <td>0.021645</td>\n",
       "      <td>0.0</td>\n",
       "      <td>0.0</td>\n",
       "      <td>0.000000</td>\n",
       "      <td>-0.004382</td>\n",
       "      <td>0.455767</td>\n",
       "      <td>0</td>\n",
       "    </tr>\n",
       "    <tr>\n",
       "      <th>2</th>\n",
       "      <td>5</td>\n",
       "      <td>train1</td>\n",
       "      <td>-0.743010</td>\n",
       "      <td>0.004642</td>\n",
       "      <td>-0.000647</td>\n",
       "      <td>-0.003290</td>\n",
       "      <td>0.0</td>\n",
       "      <td>0.0</td>\n",
       "      <td>0.000000</td>\n",
       "      <td>0.0</td>\n",
       "      <td>...</td>\n",
       "      <td>0.001796</td>\n",
       "      <td>-0.000104</td>\n",
       "      <td>0.0</td>\n",
       "      <td>-0.024718</td>\n",
       "      <td>0.0</td>\n",
       "      <td>0.0</td>\n",
       "      <td>0.219566</td>\n",
       "      <td>0.072711</td>\n",
       "      <td>1.155580</td>\n",
       "      <td>0</td>\n",
       "    </tr>\n",
       "    <tr>\n",
       "      <th>3</th>\n",
       "      <td>7</td>\n",
       "      <td>train1</td>\n",
       "      <td>0.029770</td>\n",
       "      <td>-0.006343</td>\n",
       "      <td>-0.000635</td>\n",
       "      <td>-0.002516</td>\n",
       "      <td>0.0</td>\n",
       "      <td>0.0</td>\n",
       "      <td>0.160313</td>\n",
       "      <td>0.0</td>\n",
       "      <td>...</td>\n",
       "      <td>-0.005501</td>\n",
       "      <td>0.045308</td>\n",
       "      <td>0.0</td>\n",
       "      <td>-0.148852</td>\n",
       "      <td>0.0</td>\n",
       "      <td>0.0</td>\n",
       "      <td>0.000000</td>\n",
       "      <td>-0.101181</td>\n",
       "      <td>-0.954553</td>\n",
       "      <td>0</td>\n",
       "    </tr>\n",
       "    <tr>\n",
       "      <th>4</th>\n",
       "      <td>10</td>\n",
       "      <td>train1</td>\n",
       "      <td>-0.660243</td>\n",
       "      <td>0.012591</td>\n",
       "      <td>-0.002098</td>\n",
       "      <td>-0.022264</td>\n",
       "      <td>0.0</td>\n",
       "      <td>0.0</td>\n",
       "      <td>0.000000</td>\n",
       "      <td>0.0</td>\n",
       "      <td>...</td>\n",
       "      <td>0.029034</td>\n",
       "      <td>-0.005847</td>\n",
       "      <td>0.0</td>\n",
       "      <td>-0.007073</td>\n",
       "      <td>0.0</td>\n",
       "      <td>0.0</td>\n",
       "      <td>0.000000</td>\n",
       "      <td>-0.004842</td>\n",
       "      <td>0.436002</td>\n",
       "      <td>0</td>\n",
       "    </tr>\n",
       "  </tbody>\n",
       "</table>\n",
       "<p>5 rows × 91 columns</p>\n",
       "</div>"
      ],
      "text/plain": [
       "   data_id  period        c1        c2        c3        c4   c5   c6  \\\n",
       "0        2  train1  0.655570 -0.000022 -0.000539 -0.001075  0.0  0.0   \n",
       "1        3  train1  1.646430 -0.000292 -0.008367  0.009497  0.0  0.0   \n",
       "2        5  train1 -0.743010  0.004642 -0.000647 -0.003290  0.0  0.0   \n",
       "3        7  train1  0.029770 -0.006343 -0.000635 -0.002516  0.0  0.0   \n",
       "4       10  train1 -0.660243  0.012591 -0.002098 -0.022264  0.0  0.0   \n",
       "\n",
       "         c7   c8   ...         c80       c81  c82       c83  c84  c85  \\\n",
       "0  0.213390  0.0   ...   -0.023358 -0.017041  0.0  0.060697  0.0  0.0   \n",
       "1  0.000000  0.0   ...   -0.059429 -0.009109  0.0  0.021645  0.0  0.0   \n",
       "2  0.000000  0.0   ...    0.001796 -0.000104  0.0 -0.024718  0.0  0.0   \n",
       "3  0.160313  0.0   ...   -0.005501  0.045308  0.0 -0.148852  0.0  0.0   \n",
       "4  0.000000  0.0   ...    0.029034 -0.005847  0.0 -0.007073  0.0  0.0   \n",
       "\n",
       "        c86       c87       c88  target  \n",
       "0  0.000000 -0.000202 -0.140220       1  \n",
       "1  0.000000 -0.004382  0.455767       0  \n",
       "2  0.219566  0.072711  1.155580       0  \n",
       "3  0.000000 -0.101181 -0.954553       0  \n",
       "4  0.000000 -0.004842  0.436002       0  \n",
       "\n",
       "[5 rows x 91 columns]"
      ]
     },
     "execution_count": 23,
     "metadata": {},
     "output_type": "execute_result"
    }
   ],
   "source": [
    "df.head()"
   ]
  },
  {
   "cell_type": "code",
   "execution_count": 20,
   "metadata": {},
   "outputs": [],
   "source": [
    "feature_cols = df.columns.drop(['data_id', 'period', 'target','c19', 'c17', 'c10'])\n",
    "\n",
    "train_X = df[feature_cols]\n",
    "train_Y = df['target']\n",
    "# test_X = df_test[feature_cols]\n",
    "\n",
    "lgb_train = lgb.Dataset(train_X, train_Y)"
   ]
  },
  {
   "cell_type": "code",
   "execution_count": 13,
   "metadata": {
    "collapsed": true
   },
   "outputs": [],
   "source": [
    "gbm = lgb.LGBMRegressor().fit(train_X, train_Y)"
   ]
  },
  {
   "cell_type": "code",
   "execution_count": 21,
   "metadata": {},
   "outputs": [],
   "source": [
    "scores = cross_val_score(lgb.LGBMRegressor(), train_X, train_Y, cv=5, scoring='neg_mean_squared_error')"
   ]
  },
  {
   "cell_type": "code",
   "execution_count": 22,
   "metadata": {},
   "outputs": [
    {
     "data": {
      "text/plain": [
       "-0.24944086589099984"
      ]
     },
     "execution_count": 22,
     "metadata": {},
     "output_type": "execute_result"
    }
   ],
   "source": [
    "scores.mean()"
   ]
  },
  {
   "cell_type": "code",
   "execution_count": null,
   "metadata": {
    "collapsed": true
   },
   "outputs": [],
   "source": [
    "submit = df_test[['data_id']].copy()\n",
    "submit['predict'] = gbm.predict(test_X)\n",
    "submit.to_csv('submit.csv', header=None, index=None)"
   ]
  }
 ],
 "metadata": {
  "kernelspec": {
   "display_name": "Python 3",
   "language": "python",
   "name": "python3"
  },
  "language_info": {
   "codemirror_mode": {
    "name": "ipython",
    "version": 3
   },
   "file_extension": ".py",
   "mimetype": "text/x-python",
   "name": "python",
   "nbconvert_exporter": "python",
   "pygments_lexer": "ipython3",
   "version": "3.6.2"
  }
 },
 "nbformat": 4,
 "nbformat_minor": 2
}
